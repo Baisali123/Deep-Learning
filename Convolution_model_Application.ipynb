{
 "cells": [
  {
   "cell_type": "markdown",
   "metadata": {},
   "source": [
    "# Convolutional Neural Networks: Application\n",
    "\n",
    "Welcome to Course 4's second assignment! In this notebook, you will:\n",
    "\n",
    "- Create a mood classifer using the TF Keras Sequential API\n",
    "- Build a ConvNet to identify sign language digits using the TF Keras Functional API\n",
    "\n",
    "**After this assignment you will be able to:**\n",
    "\n",
    "- Build and train a ConvNet in TensorFlow for a __binary__ classification problem\n",
    "- Build and train a ConvNet in TensorFlow for a __multiclass__ classification problem\n",
    "- Explain different use cases for the Sequential and Functional APIs\n",
    "\n",
    "To complete this assignment, you should already be familiar with TensorFlow. If you are not, please refer back to the **TensorFlow Tutorial** of the third week of Course 2 (\"**Improving deep neural networks**\").\n",
    "\n",
    "## Important Note on Submission to the AutoGrader\n",
    "\n",
    "Before submitting your assignment to the AutoGrader, please make sure you are not doing the following:\n",
    "\n",
    "1. You have not added any _extra_ `print` statement(s) in the assignment.\n",
    "2. You have not added any _extra_ code cell(s) in the assignment.\n",
    "3. You have not changed any of the function parameters.\n",
    "4. You are not using any global variables inside your graded exercises. Unless specifically instructed to do so, please refrain from it and use the local variables instead.\n",
    "5. You are not changing the assignment code where it is not required, like creating _extra_ variables.\n",
    "\n",
    "If you do any of the following, you will get something like, `Grader Error: Grader feedback not found` (or similarly unexpected) error upon submitting your assignment. Before asking for help/debugging the errors in your assignment, check for these first. If this is the case, and you don't remember the changes you have made, you can get a fresh copy of the assignment by following these [instructions](https://www.coursera.org/learn/convolutional-neural-networks/supplement/DS4yP/h-ow-to-refresh-your-workspace)."
   ]
  },
  {
   "cell_type": "markdown",
   "metadata": {},
   "source": [
    "## Table of Contents\n",
    "\n",
    "- [1 - Packages](#1)\n",
    "    - [1.1 - Load the Data and Split the Data into Train/Test Sets](#1-1)\n",
    "- [2 - Layers in TF Keras](#2)\n",
    "- [3 - The Sequential API](#3)\n",
    "    - [3.1 - Create the Sequential Model](#3-1)\n",
    "        - [Exercise 1 - happyModel](#ex-1)\n",
    "    - [3.2 - Train and Evaluate the Model](#3-2)\n",
    "- [4 - The Functional API](#4)\n",
    "    - [4.1 - Load the SIGNS Dataset](#4-1)\n",
    "    - [4.2 - Split the Data into Train/Test Sets](#4-2)\n",
    "    - [4.3 - Forward Propagation](#4-3)\n",
    "        - [Exercise 2 - convolutional_model](#ex-2)\n",
    "    - [4.4 - Train the Model](#4-4)\n",
    "- [5 - History Object](#5)\n",
    "- [6 - Bibliography](#6)"
   ]
  },
  {
   "cell_type": "markdown",
   "metadata": {},
   "source": [
    "<a name='1'></a>\n",
    "## 1 - Packages\n",
    "\n",
    "As usual, begin by loading in the packages."
   ]
  },
  {
   "cell_type": "code",
   "execution_count": 2,
   "metadata": {
    "deletable": false,
    "editable": false
   },
   "outputs": [],
   "source": [
    "### v1.1"
   ]
  },
  {
   "cell_type": "code",
   "execution_count": 3,
   "metadata": {},
   "outputs": [],
   "source": [
    "import math\n",
    "import numpy as np\n",
    "import h5py\n",
    "import matplotlib.pyplot as plt\n",
    "from matplotlib.pyplot import imread\n",
    "import scipy\n",
    "from PIL import Image\n",
    "import pandas as pd\n",
    "import tensorflow as tf\n",
    "import tensorflow.keras.layers as tfl\n",
    "from tensorflow.python.framework import ops\n",
    "from cnn_utils import *\n",
    "from test_utils import summary, comparator\n",
    "\n",
    "%matplotlib inline\n",
    "np.random.seed(1)"
   ]
  },
  {
   "cell_type": "markdown",
   "metadata": {},
   "source": [
    "<a name='1-1'></a>\n",
    "### 1.1 - Load the Data and Split the Data into Train/Test Sets\n",
    "\n",
    "You'll be using the Happy House dataset for this part of the assignment, which contains images of peoples' faces. Your task will be to build a ConvNet that determines whether the people in the images are smiling or not -- because they only get to enter the house if they're smiling!  "
   ]
  },
  {
   "cell_type": "code",
   "execution_count": 4,
   "metadata": {},
   "outputs": [
    {
     "name": "stdout",
     "output_type": "stream",
     "text": [
      "number of training examples = 600\n",
      "number of test examples = 150\n",
      "X_train shape: (600, 64, 64, 3)\n",
      "Y_train shape: (600, 1)\n",
      "X_test shape: (150, 64, 64, 3)\n",
      "Y_test shape: (150, 1)\n"
     ]
    }
   ],
   "source": [
    "X_train_orig, Y_train_orig, X_test_orig, Y_test_orig, classes = load_happy_dataset()\n",
    "\n",
    "# Normalize image vectors\n",
    "X_train = X_train_orig/255.\n",
    "X_test = X_test_orig/255.\n",
    "\n",
    "# Reshape\n",
    "Y_train = Y_train_orig.T\n",
    "Y_test = Y_test_orig.T\n",
    "\n",
    "print (\"number of training examples = \" + str(X_train.shape[0]))\n",
    "print (\"number of test examples = \" + str(X_test.shape[0]))\n",
    "print (\"X_train shape: \" + str(X_train.shape))\n",
    "print (\"Y_train shape: \" + str(Y_train.shape))\n",
    "print (\"X_test shape: \" + str(X_test.shape))\n",
    "print (\"Y_test shape: \" + str(Y_test.shape))"
   ]
  },
  {
   "cell_type": "markdown",
   "metadata": {},
   "source": [
    "You can display the images contained in the dataset. Images are **64x64** pixels in RGB format (3 channels)."
   ]
  },
  {
   "cell_type": "code",
   "execution_count": 5,
   "metadata": {},
   "outputs": [
    {
     "data": {
      "image/png": "[encoded data removed]",
      "text/plain": [
       "<Figure size 432x288 with 1 Axes>"
      ]
     },
     "metadata": {
      "needs_background": "light"
     },
     "output_type": "display_data"
    }
   ],
   "source": [
    "index = 124\n",
    "plt.imshow(X_train_orig[index]) #display sample training image\n",
    "plt.show()"
   ]
  },
  {
   "cell_type": "markdown",
   "metadata": {},
   "source": [
    "<a name='2'></a>\n",
    "## 2 - Layers in TF Keras \n",
    "\n",
    "In the previous assignment, you created layers manually in numpy. In TF Keras, you don't have to write code directly to create layers. Rather, TF Keras has pre-defined layers you can use. \n",
    "\n",
    "When you create a layer in TF Keras, you are creating a function that takes some input and transforms it into an output you can reuse later. Nice and easy! "
   ]
  },
  {
   "cell_type": "markdown",
   "metadata": {},
   "source": [
    "<a name='3'></a>\n",
    "## 3 - The Sequential API\n",
    "\n",
    "In the previous assignment, you built helper functions using `numpy` to understand the mechanics behind convolutional neural networks. Most practical applications of deep learning today are built using programming frameworks, which have many built-in functions you can simply call. Keras is a high-level abstraction built on top of TensorFlow, which allows for even more simplified and optimized model creation and training. \n",
    "\n",
    "For the first part of this assignment, you'll create a model using TF Keras' Sequential API, which allows you to build layer by layer, and is ideal for building models where each layer has **exactly one** input tensor and **one** output tensor. \n",
    "\n",
    "As you'll see, using the Sequential API is simple and straightforward, but is only appropriate for simpler, more straightforward tasks. Later in this notebook you'll spend some time building with a more flexible, powerful alternative: the Functional API. \n",
    " "
   ]
  },
  {
   "cell_type": "markdown",
   "metadata": {},
   "source": [
    "<a name='3-1'></a>\n",
    "### 3.1 - Create the Sequential Model\n",
    "\n",
    "As mentioned earlier, the TensorFlow Keras Sequential API can be used to build simple models with layer operations that proceed in a sequential order. \n",
    "\n",
    "You can also add layers incrementally to a Sequential model with the `.add()` method, or remove them using the `.pop()` method, much like you would in a regular Python list.\n",
    "\n",
    "Actually, you can think of a Sequential model as behaving like a list of layers. Like Python lists, Sequential layers are ordered, and the order in which they are specified matters.  If your model is non-linear or contains layers with multiple inputs or outputs, a Sequential model wouldn't be the right choice!\n",
    "\n",
    "For any layer construction in Keras, you'll need to specify the input shape in advance. This is because in Keras, the shape of the weights is based on the shape of the inputs. The weights are only created when the model first sees some input data. Sequential models can be created by passing a list of layers to the Sequential constructor, like you will do in the next assignment.\n",
    "\n",
    "<a name='ex-1'></a>\n",
    "### Exercise 1 - happyModel\n",
    "\n",
    "Implement the `happyModel` function below to build the following model: `ZEROPAD2D -> CONV2D -> BATCHNORM -> RELU -> MAXPOOL -> FLATTEN -> DENSE`. Take help from [tf.keras.layers](https://www.tensorflow.org/api_docs/python/tf/keras/layers) \n",
    "\n",
    "Also, plug in the following parameters for all the steps:\n",
    "\n",
    " - [ZeroPadding2D](https://www.tensorflow.org/api_docs/python/tf/keras/layers/ZeroPadding2D): padding 3, input shape 64 x 64 x 3\n",
    " - [Conv2D](https://www.tensorflow.org/api_docs/python/tf/keras/layers/Conv2D): Use 32 7x7 filters, stride 1\n",
    " - [BatchNormalization](https://www.tensorflow.org/api_docs/python/tf/keras/layers/BatchNormalization): for axis 3\n",
    " - [ReLU](https://www.tensorflow.org/api_docs/python/tf/keras/layers/ReLU)\n",
    " - [MaxPool2D](https://www.tensorflow.org/api_docs/python/tf/keras/layers/MaxPool2D): Using default parameters\n",
    " - [Flatten](https://www.tensorflow.org/api_docs/python/tf/keras/layers/Flatten) the previous output.\n",
    " - Fully-connected ([Dense](https://www.tensorflow.org/api_docs/python/tf/keras/layers/Dense)) layer: Apply a fully connected layer with 1 neuron and a sigmoid activation. \n",
    " \n",
    " \n",
    " **Hint:**\n",
    " \n",
    " Use **tfl** as shorthand for **tensorflow.keras.layers**"
   ]
  },
  {
   "cell_type": "code",
   "execution_count": 6,
   "metadata": {
    "deletable": false,
    "nbgrader": {
     "cell_type": "code",
     "checksum": "95d28b191f257bdd5b70c7b8952559d5",
     "grade": false,
     "grade_id": "cell-0e56d3fc28b69aec",
     "locked": false,
     "schema_version": 3,
     "solution": true,
     "task": false
    }
   },
   "outputs": [],
   "source": [
    "# GRADED FUNCTION: happyModel\n",
    "\n",
    "def happyModel():\n",
    "    \"\"\"\n",
    "    Implements the forward propagation for the binary classification model:\n",
    "    ZEROPAD2D -> CONV2D -> BATCHNORM -> RELU -> MAXPOOL -> FLATTEN -> DENSE\n",
    "    \n",
    "    Note that for simplicity and grading purposes, you'll hard-code all the values\n",
    "    such as the stride and kernel (filter) sizes. \n",
    "    Normally, functions should take these values as function parameters.\n",
    "    \n",
    "    Arguments:\n",
    "    None\n",
    "\n",
    "    Returns:\n",
    "    model -- TF Keras model (object containing the information for the entire training process) \n",
    "    \"\"\"\n",
    "    model = tf.keras.Sequential([\n",
    "            ## ZeroPadding2D with padding 3, input shape of 64 x 64 x 3\n",
    "           \n",
    "            ## Conv2D with 32 7x7 filters and stride of 1\n",
    "            \n",
    "            ## BatchNormalization for axis 3\n",
    "            \n",
    "            ## ReLU\n",
    "            \n",
    "            ## Max Pooling 2D with default parameters\n",
    "            \n",
    "            ## Flatten layer\n",
    "            \n",
    "            ## Dense layer with 1 unit for output & 'sigmoid' activation\n",
    "            \n",
    "            # YOUR CODE STARTS HERE\n",
    "             tfl.ZeroPadding2D(padding=(3,3),input_shape=(64,64,3)),\n",
    "             tfl.Conv2D(32,(7,7)),\n",
    "             tfl.BatchNormalization(axis=-1),\n",
    "             tfl.ReLU(),\n",
    "             tfl.MaxPool2D(),\n",
    "             tfl.Flatten(),\n",
    "             tfl.Dense(1,activation='sigmoid')\n",
    "            \n",
    "            # YOUR CODE ENDS HERE\n",
    "        ])\n",
    "    \n",
    "    return model"
   ]
  },
  {
   "cell_type": "code",
   "execution_count": 7,
   "metadata": {
    "deletable": false,
    "editable": false,
    "nbgrader": {
     "cell_type": "code",
     "checksum": "8d3575c950e2e78149be2d05d671c80d",
     "grade": true,
     "grade_id": "cell-e3e1046e5c33d775",
     "locked": true,
     "points": 10,
     "schema_version": 3,
     "solution": false,
     "task": false
    }
   },
   "outputs": [
    {
     "name": "stdout",
     "output_type": "stream",
     "text": [
      "['ZeroPadding2D', (None, 70, 70, 3), 0, ((3, 3), (3, 3))]\n",
      "['Conv2D', (None, 64, 64, 32), 4736, 'valid', 'linear', 'GlorotUniform']\n",
      "['BatchNormalization', (None, 64, 64, 32), 128]\n",
      "['ReLU', (None, 64, 64, 32), 0]\n",
      "['MaxPooling2D', (None, 32, 32, 32), 0, (2, 2), (2, 2), 'valid']\n",
      "['Flatten', (None, 32768), 0]\n",
      "['Dense', (None, 1), 32769, 'sigmoid']\n",
      "\u001b[32mAll tests passed!\u001b[0m\n"
     ]
    }
   ],
   "source": [
    "happy_model = happyModel()\n",
    "# Print a summary for each layer\n",
    "for layer in summary(happy_model):\n",
    "    print(layer)\n",
    "    \n",
    "output = [['ZeroPadding2D', (None, 70, 70, 3), 0, ((3, 3), (3, 3))],\n",
    "            ['Conv2D', (None, 64, 64, 32), 4736, 'valid', 'linear', 'GlorotUniform'],\n",
    "            ['BatchNormalization', (None, 64, 64, 32), 128],\n",
    "            ['ReLU', (None, 64, 64, 32), 0],\n",
    "            ['MaxPooling2D', (None, 32, 32, 32), 0, (2, 2), (2, 2), 'valid'],\n",
    "            ['Flatten', (None, 32768), 0],\n",
    "            ['Dense', (None, 1), 32769, 'sigmoid']]\n",
    "    \n",
    "comparator(summary(happy_model), output)"
   ]
  },
  {
   "cell_type": "markdown",
   "metadata": {},
   "source": [
    "#### Expected Output:\n",
    "\n",
    "```\n",
    "['ZeroPadding2D', (None, 70, 70, 3), 0, ((3, 3), (3, 3))]\n",
    "['Conv2D', (None, 64, 64, 32), 4736, 'valid', 'linear', 'GlorotUniform']\n",
    "['BatchNormalization', (None, 64, 64, 32), 128]\n",
    "['ReLU', (None, 64, 64, 32), 0]\n",
    "['MaxPooling2D', (None, 32, 32, 32), 0, (2, 2), (2, 2), 'valid']\n",
    "['Flatten', (None, 32768), 0]\n",
    "['Dense', (None, 1), 32769, 'sigmoid']\n",
    "All tests passed!\n",
    "```"
   ]
  },
  {
   "cell_type": "markdown",
   "metadata": {},
   "source": [
    "Now that your model is created, you can compile it for training with an optimizer and loss of your choice. When the string `accuracy` is specified as a metric, the type of accuracy used will be automatically converted based on the loss function used. This is one of the many optimizations built into TensorFlow that make your life easier! If you'd like to read more on how the compiler operates, check the docs [here](https://www.tensorflow.org/api_docs/python/tf/keras/Model#compile)."
   ]
  },
  {
   "cell_type": "code",
   "execution_count": 8,
   "metadata": {},
   "outputs": [],
   "source": [
    "happy_model.compile(optimizer='adam',\n",
    "                   loss='binary_crossentropy',\n",
    "                   metrics=['accuracy'])"
   ]
  },
  {
   "cell_type": "markdown",
   "metadata": {},
   "source": [
    "It's time to check your model's parameters with the `.summary()` method. This will display the types of layers you have, the shape of the outputs, and how many parameters are in each layer. "
   ]
  },
  {
   "cell_type": "code",
   "execution_count": 9,
   "metadata": {},
   "outputs": [
    {
     "name": "stdout",
     "output_type": "stream",
     "text": [
      "Model: \"sequential\"\n",
      "_________________________________________________________________\n",
      "Layer (type)                 Output Shape              Param #   \n",
      "=================================================================\n",
      "zero_padding2d (ZeroPadding2 (None, 70, 70, 3)         0         \n",
      "_________________________________________________________________\n",
      "conv2d (Conv2D)              (None, 64, 64, 32)        4736      \n",
      "_________________________________________________________________\n",
      "batch_normalization (BatchNo (None, 64, 64, 32)        128       \n",
      "_________________________________________________________________\n",
      "re_lu (ReLU)                 (None, 64, 64, 32)        0         \n",
      "_________________________________________________________________\n",
      "max_pooling2d (MaxPooling2D) (None, 32, 32, 32)        0         \n",
      "_________________________________________________________________\n",
      "flatten (Flatten)            (None, 32768)             0         \n",
      "_________________________________________________________________\n",
      "dense (Dense)                (None, 1)                 32769     \n",
      "=================================================================\n",
      "Total params: 37,633\n",
      "Trainable params: 37,569\n",
      "Non-trainable params: 64\n",
      "_________________________________________________________________\n"
     ]
    }
   ],
   "source": [
    "happy_model.summary()"
   ]
  },
  {
   "cell_type": "markdown",
   "metadata": {},
   "source": [
    "<a name='3-2'></a>\n",
    "### 3.2 - Train and Evaluate the Model\n",
    "\n",
    "After creating the model, compiling it with your choice of optimizer and loss function, and doing a sanity check on its contents, you are now ready to build! \n",
    "\n",
    "Simply call `.fit()` to train. That's it! No need for mini-batching, saving, or complex backpropagation computations. That's all been done for you, as you're using a TensorFlow dataset with the batches specified already. You do have the option to specify epoch number or minibatch size if you like (for example, in the case of an un-batched dataset)."
   ]
  },
  {
   "cell_type": "code",
   "execution_count": 10,
   "metadata": {},
   "outputs": [
    {
     "name": "stdout",
     "output_type": "stream",
     "text": [
      "Epoch 1/10\n",
      "38/38 [==============================] - 4s 105ms/step - loss: 0.8129 - accuracy: 0.7567\n",
      "Epoch 2/10\n",
      "38/38 [==============================] - 4s 97ms/step - loss: 0.3754 - accuracy: 0.8833\n",
      "Epoch 3/10\n",
      "38/38 [==============================] - 4s 100ms/step - loss: 0.1754 - accuracy: 0.9233\n",
      "Epoch 4/10\n",
      "38/38 [==============================] - 4s 98ms/step - loss: 0.2088 - accuracy: 0.9200\n",
      "Epoch 5/10\n",
      "38/38 [==============================] - 4s 97ms/step - loss: 0.0895 - accuracy: 0.9650\n",
      "Epoch 6/10\n",
      "38/38 [==============================] - 4s 100ms/step - loss: 0.0753 - accuracy: 0.9783\n",
      "Epoch 7/10\n",
      "38/38 [==============================] - 4s 100ms/step - loss: 0.1271 - accuracy: 0.9600\n",
      "Epoch 8/10\n",
      "38/38 [==============================] - 4s 98ms/step - loss: 0.0711 - accuracy: 0.9767\n",
      "Epoch 9/10\n",
      "38/38 [==============================] - 4s 97ms/step - loss: 0.2225 - accuracy: 0.9233\n",
      "Epoch 10/10\n",
      "38/38 [==============================] - 4s 97ms/step - loss: 0.0712 - accuracy: 0.9800\n"
     ]
    },
    {
     "data": {
      "text/plain": [
       "<tensorflow.python.keras.callbacks.History at 0x7707a77fc910>"
      ]
     },
     "execution_count": 10,
     "metadata": {},
     "output_type": "execute_result"
    }
   ],
   "source": [
    "happy_model.fit(X_train, Y_train, epochs=10, batch_size=16)"
   ]
  },
  {
   "cell_type": "markdown",
   "metadata": {},
   "source": [
    "After that completes, just use `.evaluate()` to evaluate against your test set. This function will print the value of the loss function and the performance metrics specified during the compilation of the model. In this case, the `binary_crossentropy` and the `accuracy` respectively."
   ]
  },
  {
   "cell_type": "code",
   "execution_count": 11,
   "metadata": {},
   "outputs": [
    {
     "name": "stdout",
     "output_type": "stream",
     "text": [
      "5/5 [==============================] - 0s 43ms/step - loss: 0.4715 - accuracy: 0.7733\n"
     ]
    },
    {
     "data": {
      "text/plain": [
       "[0.4715231955051422, 0.7733333110809326]"
      ]
     },
     "execution_count": 11,
     "metadata": {},
     "output_type": "execute_result"
    }
   ],
   "source": [
    "happy_model.evaluate(X_test, Y_test)"
   ]
  },
  {
   "cell_type": "markdown",
   "metadata": {},
   "source": [
    "Easy, right? But what if you need to build a model with shared layers, branches, or multiple inputs and outputs? This is where Sequential, with its beautifully simple yet limited functionality, won't be able to help you. \n",
    "\n",
    "Next up: Enter the Functional API, your slightly more complex, highly flexible friend.  "
   ]
  },
  {
   "cell_type": "markdown",
   "metadata": {},
   "source": [
    "<a name='4'></a>\n",
    "## 4 - The Functional API"
   ]
  },
  {
   "cell_type": "markdown",
   "metadata": {},
   "source": [
    "Welcome to the second half of the assignment, where you'll use Keras' flexible [Functional API](https://www.tensorflow.org/guide/keras/functional) to build a ConvNet that can differentiate between 6 sign language digits. \n",
    "\n",
    "The Functional API can handle models with non-linear topology, shared layers, as well as layers with multiple inputs or outputs. Imagine that, where the Sequential API requires the model to move in a linear fashion through its layers, the Functional API allows much more flexibility. Where Sequential is a straight line, a Functional model is a graph, where the nodes of the layers can connect in many more ways than one. \n",
    "\n",
    "In the visual example below, the one possible direction of the movement Sequential model is shown in contrast to a skip connection, which is just one of the many ways a Functional model can be constructed. A skip connection, as you might have guessed, skips some layer in the network and feeds the output to a later layer in the network. Don't worry, you'll be spending more time with skip connections very soon! "
   ]
  },
  {
   "cell_type": "markdown",
   "metadata": {},
   "source": [
    "<img src=\"images/seq_vs_func.png\" style=\"width:350px;height:200px;\">"
   ]
  },
  {
   "cell_type": "markdown",
   "metadata": {},
   "source": [
    "<a name='4-1'></a>\n",
    "### 4.1 - Load the SIGNS Dataset\n",
    "\n",
    "As a reminder, the SIGNS dataset is a collection of 6 signs representing numbers from 0 to 5."
   ]
  },
  {
   "cell_type": "code",
   "execution_count": 13,
   "metadata": {},
   "outputs": [],
   "source": [
    "# Loading the data (signs)\n",
    "X_train_orig, Y_train_orig, X_test_orig, Y_test_orig, classes = load_signs_dataset()"
   ]
  },
  {
   "cell_type": "markdown",
   "metadata": {},
   "source": [
    "<img src=\"images/SIGNS.png\" style=\"width:800px;height:300px;\">\n",
    "\n",
    "The next cell will show you an example of a labelled image in the dataset. Feel free to change the value of `index` below and re-run to see different examples. "
   ]
  },
  {
   "cell_type": "code",
   "execution_count": 17,
   "metadata": {},
   "outputs": [
    {
     "name": "stdout",
     "output_type": "stream",
     "text": [
      "y = 4\n"
     ]
    },
    {
     "data": {
      "image/png": "[encoded data removed]",
      "text/plain": [
       "<Figure size 432x288 with 1 Axes>"
      ]
     },
     "metadata": {
      "needs_background": "light"
     },
     "output_type": "display_data"
    }
   ],
   "source": [
    "# Example of an image from the dataset\n",
    "index = 9\n",
    "plt.imshow(X_train_orig[index])\n",
    "print (\"y = \" + str(np.squeeze(Y_train_orig[:, index])))"
   ]
  },
  {
   "cell_type": "markdown",
   "metadata": {},
   "source": [
    "<a name='4-2'></a>\n",
    "### 4.2 - Split the Data into Train/Test Sets\n",
    "\n",
    "In Course 2, you built a fully-connected network for this dataset. But since this is an image dataset, it is more natural to apply a ConvNet to it.\n",
    "\n",
    "To get started, let's examine the shapes of your data. "
   ]
  },
  {
   "cell_type": "code",
   "execution_count": 18,
   "metadata": {},
   "outputs": [
    {
     "name": "stdout",
     "output_type": "stream",
     "text": [
      "number of training examples = 1080\n",
      "number of test examples = 120\n",
      "X_train shape: (1080, 64, 64, 3)\n",
      "Y_train shape: (1080, 6)\n",
      "X_test shape: (120, 64, 64, 3)\n",
      "Y_test shape: (120, 6)\n"
     ]
    }
   ],
   "source": [
    "X_train = X_train_orig/255.\n",
    "X_test = X_test_orig/255.\n",
    "Y_train = convert_to_one_hot(Y_train_orig, 6).T\n",
    "Y_test = convert_to_one_hot(Y_test_orig, 6).T\n",
    "print (\"number of training examples = \" + str(X_train.shape[0]))\n",
    "print (\"number of test examples = \" + str(X_test.shape[0]))\n",
    "print (\"X_train shape: \" + str(X_train.shape))\n",
    "print (\"Y_train shape: \" + str(Y_train.shape))\n",
    "print (\"X_test shape: \" + str(X_test.shape))\n",
    "print (\"Y_test shape: \" + str(Y_test.shape))"
   ]
  },
  {
   "cell_type": "markdown",
   "metadata": {},
   "source": [
    "<a name='4-3'></a>\n",
    "### 4.3 - Forward Propagation\n",
    "\n",
    "In TensorFlow, there are built-in functions that implement the convolution steps for you. By now, you should be familiar with how TensorFlow builds computational graphs. In the [Functional API](https://www.tensorflow.org/guide/keras/functional), you create a graph of layers. This is what allows such great flexibility.\n",
    "\n",
    "However, the following model could also be defined using the Sequential API since the information flow is on a single line. But don't deviate. What we want you to learn is to use the functional API.\n",
    "\n",
    "Begin building your graph of layers by creating an input node that functions as a callable object:\n",
    "\n",
    "- **input_img = tf.keras.Input(shape=input_shape):** \n",
    "\n",
    "Then, create a new node in the graph of layers by calling a layer on the `input_img` object: \n",
    "\n",
    "- **tf.keras.layers.Conv2D(filters= ... , kernel_size= ... , padding='same')(input_img):** Read the full documentation on [Conv2D](https://www.tensorflow.org/api_docs/python/tf/keras/layers/Conv2D).\n",
    "\n",
    "- **tf.keras.layers.MaxPool2D(pool_size=(f, f), strides=(s, s), padding='same'):** `MaxPool2D()` downsamples your input using a window of size (f, f) and strides of size (s, s) to carry out max pooling over each window.  For max pooling, you usually operate on a single example at a time and a single channel at a time. Read the full documentation on [MaxPool2D](https://www.tensorflow.org/api_docs/python/tf/keras/layers/MaxPool2D).\n",
    "\n",
    "- **tf.keras.layers.ReLU():** computes the elementwise ReLU of Z (which can be any shape). You can read the full documentation on [ReLU](https://www.tensorflow.org/api_docs/python/tf/keras/layers/ReLU).\n",
    "\n",
    "- **tf.keras.layers.Flatten()**: given a tensor \"P\", this function takes each training (or test) example in the batch and flattens it into a 1D vector.  \n",
    "\n",
    "    * If a tensor P has the shape (batch_size,h,w,c), it returns a flattened tensor with shape (batch_size, k), where $k=h \\times w \\times c$.  \"k\" equals the product of all the dimension sizes other than the first dimension.\n",
    "    \n",
    "    * For example, given a tensor with dimensions [100, 2, 3, 4], it flattens the tensor to be of shape [100, 24], where 24 = 2 * 3 * 4.  You can read the full documentation on [Flatten](https://www.tensorflow.org/api_docs/python/tf/keras/layers/Flatten).\n",
    "\n",
    "- **tf.keras.layers.Dense(units= ... , activation='softmax')(F):** given the flattened input F, it returns the output computed using a fully connected layer. You can read the full documentation on [Dense](https://www.tensorflow.org/api_docs/python/tf/keras/layers/Dense).\n",
    "\n",
    "In the last function above (`tf.keras.layers.Dense()`), the fully connected layer automatically initializes weights in the graph and keeps on training them as you train the model. Hence, you did not need to initialize those weights when initializing the parameters.\n",
    "\n",
    "Lastly, before creating the model, you'll need to define the output using the last of the function's compositions (in this example, a Dense layer): \n",
    "\n",
    "- **outputs = tf.keras.layers.Dense(units=6, activation='softmax')(F)**\n",
    "\n",
    "\n",
    "#### Window, kernel, filter, pool\n",
    "\n",
    "The words \"kernel\" and \"filter\" are used to refer to the same thing. The word \"filter\" accounts for the amount of \"kernels\" that will be used in a single convolution layer. \"Pool\" is the name of the operation that takes the max or average value of the kernels. \n",
    "\n",
    "This is why the parameter `pool_size` refers to `kernel_size`, and you use `(f,f)` to refer to the filter size. \n",
    "\n",
    "Pool size and kernel size refer to the same thing in different objects - They refer to the shape of the window where the operation takes place. "
   ]
  },
  {
   "cell_type": "markdown",
   "metadata": {},
   "source": [
    "<a name='ex-2'></a>\n",
    "### Exercise 2 - convolutional_model\n",
    "\n",
    "Implement the `convolutional_model` function below to build the following model: `CONV2D -> RELU -> MAXPOOL -> CONV2D -> RELU -> MAXPOOL -> FLATTEN -> DENSE`. Use the functions above! \n",
    "\n",
    "Also, plug in the following parameters for all the steps:\n",
    "\n",
    " - [Conv2D](https://www.tensorflow.org/api_docs/python/tf/keras/layers/Conv2D): Use 8 4 by 4 filters, stride 1, padding is \"SAME\"\n",
    " - [ReLU](https://www.tensorflow.org/api_docs/python/tf/keras/layers/ReLU)\n",
    " - [MaxPool2D](https://www.tensorflow.org/api_docs/python/tf/keras/layers/MaxPool2D): Use an 8 by 8 filter size and an 8 by 8 stride, padding is \"SAME\"\n",
    " - **Conv2D**: Use 16 2 by 2 filters, stride 1, padding is \"SAME\"\n",
    " - **ReLU**\n",
    " - **MaxPool2D**: Use a 4 by 4 filter size and a 4 by 4 stride, padding is \"SAME\"\n",
    " - [Flatten](https://www.tensorflow.org/api_docs/python/tf/keras/layers/Flatten) the previous output.\n",
    " - Fully-connected ([Dense](https://www.tensorflow.org/api_docs/python/tf/keras/layers/Dense)) layer: Apply a fully connected layer with 6 neurons and a softmax activation. "
   ]
  },
  {
   "cell_type": "code",
   "execution_count": 19,
   "metadata": {
    "deletable": false,
    "nbgrader": {
     "cell_type": "code",
     "checksum": "f58643806aa8380c96225fc8b4c5e7aa",
     "grade": false,
     "grade_id": "cell-dac51744a9e03f51",
     "locked": false,
     "schema_version": 3,
     "solution": true,
     "task": false
    }
   },
   "outputs": [],
   "source": [
    "# GRADED FUNCTION: convolutional_model\n",
    "\n",
    "def convolutional_model(input_shape):\n",
    "    \"\"\"\n",
    "    Implements the forward propagation for the model:\n",
    "    CONV2D -> RELU -> MAXPOOL -> CONV2D -> RELU -> MAXPOOL -> FLATTEN -> DENSE\n",
    "    \n",
    "    Note that for simplicity and grading purposes, you'll hard-code some values\n",
    "    such as the stride and kernel (filter) sizes. \n",
    "    Normally, functions should take these values as function parameters.\n",
    "    \n",
    "    Arguments:\n",
    "    input_img -- input dataset, of shape (input_shape)\n",
    "\n",
    "    Returns:\n",
    "    model -- TF Keras model (object containing the information for the entire training process) \n",
    "    \"\"\"\n",
    "\n",
    "    input_img = tf.keras.Input(shape=input_shape)\n",
    "    ## CONV2D: 8 filters 4x4, stride of 1, padding 'SAME'\n",
    "    # Z1 = None\n",
    "    ## RELU\n",
    "    # A1 = None\n",
    "    ## MAXPOOL: window 8x8, stride 8, padding 'SAME'\n",
    "    # P1 = None2D\n",
    "    ## CONV2D: 16 filters 2x2, stride 1, padding 'SAME'\n",
    "    # Z2 = None\n",
    "    ## RELU\n",
    "    # A2 = None\n",
    "    ## MAXPOOL: window 4x4, stride 4, padding 'SAME'\n",
    "    # P2 = None\n",
    "    ## FLATTEN\n",
    "    # F = None\n",
    "    ## Dense layer\n",
    "    ## 6 neurons in output layer. Hint: one of the arguments should be \"activation='softmax'\" \n",
    "    # outputs = None\n",
    "    # YOUR CODE STARTS HERE\n",
    "    Z1 = tfl.Conv2D(8, 4, activation='linear', padding=\"same\", strides=1)(input_img)\n",
    "    A1 = tfl.ReLU()(Z1)\n",
    "    P1 = tfl.MaxPool2D(pool_size=(8, 8), strides=(8, 8), padding='same')(A1)\n",
    "    Z2 = tfl.Conv2D(16, 2, activation='linear', padding=\"same\", strides=1)(P1)\n",
    "    A2 = tfl.ReLU()(Z2)\n",
    "    P2 = tfl.MaxPool2D(pool_size=(4, 4), strides=(4, 4), padding='same')(A2)\n",
    "    F = tfl.Flatten()(P2)\n",
    "    outputs = tfl.Dense(6, activation='softmax')(F)\n",
    "    \n",
    "    # YOUR CODE ENDS HERE\n",
    "    model = tf.keras.Model(inputs=input_img, outputs=outputs)\n",
    "    return model"
   ]
  },
  {
   "cell_type": "code",
   "execution_count": 20,
   "metadata": {
    "deletable": false,
    "editable": false,
    "nbgrader": {
     "cell_type": "code",
     "checksum": "483d626949930a0b0ef20997e7c6ba72",
     "grade": true,
     "grade_id": "cell-45d22e92042174c9",
     "locked": true,
     "points": 10,
     "schema_version": 3,
     "solution": false,
     "task": false
    }
   },
   "outputs": [
    {
     "name": "stdout",
     "output_type": "stream",
     "text": [
      "Model: \"functional_1\"\n",
      "_________________________________________________________________\n",
      "Layer (type)                 Output Shape              Param #   \n",
      "=================================================================\n",
      "input_1 (InputLayer)         [(None, 64, 64, 3)]       0         \n",
      "_________________________________________________________________\n",
      "conv2d_1 (Conv2D)            (None, 64, 64, 8)         392       \n",
      "_________________________________________________________________\n",
      "re_lu_1 (ReLU)               (None, 64, 64, 8)         0         \n",
      "_________________________________________________________________\n",
      "max_pooling2d_1 (MaxPooling2 (None, 8, 8, 8)           0         \n",
      "_________________________________________________________________\n",
      "conv2d_2 (Conv2D)            (None, 8, 8, 16)          528       \n",
      "_________________________________________________________________\n",
      "re_lu_2 (ReLU)               (None, 8, 8, 16)          0         \n",
      "_________________________________________________________________\n",
      "max_pooling2d_2 (MaxPooling2 (None, 2, 2, 16)          0         \n",
      "_________________________________________________________________\n",
      "flatten_1 (Flatten)          (None, 64)                0         \n",
      "_________________________________________________________________\n",
      "dense_1 (Dense)              (None, 6)                 390       \n",
      "=================================================================\n",
      "Total params: 1,310\n",
      "Trainable params: 1,310\n",
      "Non-trainable params: 0\n",
      "_________________________________________________________________\n",
      "\u001b[32mAll tests passed!\u001b[0m\n"
     ]
    }
   ],
   "source": [
    "conv_model = convolutional_model((64, 64, 3))\n",
    "conv_model.compile(optimizer='adam',\n",
    "                  loss='categorical_crossentropy',\n",
    "                  metrics=['accuracy'])\n",
    "conv_model.summary()\n",
    "    \n",
    "output = [['InputLayer', [(None, 64, 64, 3)], 0],\n",
    "        ['Conv2D', (None, 64, 64, 8), 392, 'same', 'linear', 'GlorotUniform'],\n",
    "        ['ReLU', (None, 64, 64, 8), 0],\n",
    "        ['MaxPooling2D', (None, 8, 8, 8), 0, (8, 8), (8, 8), 'same'],\n",
    "        ['Conv2D', (None, 8, 8, 16), 528, 'same', 'linear', 'GlorotUniform'],\n",
    "        ['ReLU', (None, 8, 8, 16), 0],\n",
    "        ['MaxPooling2D', (None, 2, 2, 16), 0, (4, 4), (4, 4), 'same'],\n",
    "        ['Flatten', (None, 64), 0],\n",
    "        ['Dense', (None, 6), 390, 'softmax']]\n",
    "    \n",
    "comparator(summary(conv_model), output)"
   ]
  },
  {
   "cell_type": "markdown",
   "metadata": {},
   "source": [
    "Both the Sequential and Functional APIs return a TF Keras model object. The only difference is how inputs are handled inside the object model! "
   ]
  },
  {
   "cell_type": "markdown",
   "metadata": {},
   "source": [
    "<a name='4-4'></a>\n",
    "### 4.4 - Train the Model"
   ]
  },
  {
   "cell_type": "code",
   "execution_count": 21,
   "metadata": {},
   "outputs": [
    {
     "name": "stdout",
     "output_type": "stream",
     "text": [
      "Epoch 1/100\n",
      "17/17 [==============================] - 2s 112ms/step - loss: 1.8010 - accuracy: 0.1778 - val_loss: 1.7835 - val_accuracy: 0.1750\n",
      "Epoch 2/100\n",
      "17/17 [==============================] - 2s 112ms/step - loss: 1.7790 - accuracy: 0.2352 - val_loss: 1.7748 - val_accuracy: 0.3833\n",
      "Epoch 3/100\n",
      "17/17 [==============================] - 2s 106ms/step - loss: 1.7737 - accuracy: 0.3093 - val_loss: 1.7703 - val_accuracy: 0.4083\n",
      "Epoch 4/100\n",
      "17/17 [==============================] - 2s 106ms/step - loss: 1.7683 - accuracy: 0.3278 - val_loss: 1.7652 - val_accuracy: 0.4083\n",
      "Epoch 5/100\n",
      "17/17 [==============================] - 2s 107ms/step - loss: 1.7626 - accuracy: 0.3435 - val_loss: 1.7593 - val_accuracy: 0.3417\n",
      "Epoch 6/100\n",
      "17/17 [==============================] - 2s 106ms/step - loss: 1.7556 - accuracy: 0.3861 - val_loss: 1.7521 - val_accuracy: 0.4083\n",
      "Epoch 7/100\n",
      "17/17 [==============================] - 2s 107ms/step - loss: 1.7462 - accuracy: 0.4037 - val_loss: 1.7425 - val_accuracy: 0.4500\n",
      "Epoch 8/100\n",
      "17/17 [==============================] - 2s 106ms/step - loss: 1.7356 - accuracy: 0.4139 - val_loss: 1.7311 - val_accuracy: 0.4583\n",
      "Epoch 9/100\n",
      "17/17 [==============================] - 2s 106ms/step - loss: 1.7230 - accuracy: 0.3981 - val_loss: 1.7168 - val_accuracy: 0.4500\n",
      "Epoch 10/100\n",
      "17/17 [==============================] - 2s 106ms/step - loss: 1.7075 - accuracy: 0.4333 - val_loss: 1.7012 - val_accuracy: 0.4417\n",
      "Epoch 11/100\n",
      "17/17 [==============================] - 2s 107ms/step - loss: 1.6889 - accuracy: 0.4435 - val_loss: 1.6819 - val_accuracy: 0.4500\n",
      "Epoch 12/100\n",
      "17/17 [==============================] - 2s 106ms/step - loss: 1.6664 - accuracy: 0.4500 - val_loss: 1.6601 - val_accuracy: 0.4417\n",
      "Epoch 13/100\n",
      "17/17 [==============================] - 2s 106ms/step - loss: 1.6412 - accuracy: 0.4593 - val_loss: 1.6360 - val_accuracy: 0.4333\n",
      "Epoch 14/100\n",
      "17/17 [==============================] - 2s 106ms/step - loss: 1.6115 - accuracy: 0.4787 - val_loss: 1.6070 - val_accuracy: 0.4500\n",
      "Epoch 15/100\n",
      "17/17 [==============================] - 2s 106ms/step - loss: 1.5819 - accuracy: 0.4880 - val_loss: 1.5745 - val_accuracy: 0.4583\n",
      "Epoch 16/100\n",
      "17/17 [==============================] - 2s 111ms/step - loss: 1.5462 - accuracy: 0.5019 - val_loss: 1.5381 - val_accuracy: 0.4750\n",
      "Epoch 17/100\n",
      "17/17 [==============================] - 2s 107ms/step - loss: 1.5089 - accuracy: 0.5148 - val_loss: 1.4980 - val_accuracy: 0.4833\n",
      "Epoch 18/100\n",
      "17/17 [==============================] - 2s 106ms/step - loss: 1.4689 - accuracy: 0.5204 - val_loss: 1.4556 - val_accuracy: 0.5167\n",
      "Epoch 19/100\n",
      "17/17 [==============================] - 2s 106ms/step - loss: 1.4251 - accuracy: 0.5361 - val_loss: 1.4072 - val_accuracy: 0.5417\n",
      "Epoch 20/100\n",
      "17/17 [==============================] - 2s 101ms/step - loss: 1.3832 - accuracy: 0.5417 - val_loss: 1.3679 - val_accuracy: 0.5500\n",
      "Epoch 21/100\n",
      "17/17 [==============================] - 2s 112ms/step - loss: 1.3381 - accuracy: 0.5657 - val_loss: 1.3187 - val_accuracy: 0.6083\n",
      "Epoch 22/100\n",
      "17/17 [==============================] - 2s 112ms/step - loss: 1.2968 - accuracy: 0.5778 - val_loss: 1.2795 - val_accuracy: 0.6000\n",
      "Epoch 23/100\n",
      "17/17 [==============================] - 2s 106ms/step - loss: 1.2541 - accuracy: 0.5907 - val_loss: 1.2352 - val_accuracy: 0.6083\n",
      "Epoch 24/100\n",
      "17/17 [==============================] - 2s 112ms/step - loss: 1.2158 - accuracy: 0.6046 - val_loss: 1.1954 - val_accuracy: 0.5917\n",
      "Epoch 25/100\n",
      "17/17 [==============================] - 2s 107ms/step - loss: 1.1791 - accuracy: 0.6120 - val_loss: 1.1621 - val_accuracy: 0.6417\n",
      "Epoch 26/100\n",
      "17/17 [==============================] - 2s 111ms/step - loss: 1.1419 - accuracy: 0.6269 - val_loss: 1.1240 - val_accuracy: 0.6417\n",
      "Epoch 27/100\n",
      "17/17 [==============================] - 2s 111ms/step - loss: 1.1099 - accuracy: 0.6287 - val_loss: 1.0938 - val_accuracy: 0.6333\n",
      "Epoch 28/100\n",
      "17/17 [==============================] - 2s 111ms/step - loss: 1.0792 - accuracy: 0.6389 - val_loss: 1.0684 - val_accuracy: 0.6417\n",
      "Epoch 29/100\n",
      "17/17 [==============================] - 2s 112ms/step - loss: 1.0485 - accuracy: 0.6472 - val_loss: 1.0343 - val_accuracy: 0.6750\n",
      "Epoch 30/100\n",
      "17/17 [==============================] - 2s 112ms/step - loss: 1.0249 - accuracy: 0.6565 - val_loss: 1.0143 - val_accuracy: 0.6667\n",
      "Epoch 31/100\n",
      "17/17 [==============================] - 2s 112ms/step - loss: 0.9992 - accuracy: 0.6667 - val_loss: 0.9923 - val_accuracy: 0.6750\n",
      "Epoch 32/100\n",
      "17/17 [==============================] - 2s 107ms/step - loss: 0.9755 - accuracy: 0.6694 - val_loss: 0.9684 - val_accuracy: 0.6750\n",
      "Epoch 33/100\n",
      "17/17 [==============================] - 2s 112ms/step - loss: 0.9540 - accuracy: 0.6796 - val_loss: 0.9508 - val_accuracy: 0.6833\n",
      "Epoch 34/100\n",
      "17/17 [==============================] - 2s 111ms/step - loss: 0.9321 - accuracy: 0.6870 - val_loss: 0.9341 - val_accuracy: 0.6750\n",
      "Epoch 35/100\n",
      "17/17 [==============================] - 2s 112ms/step - loss: 0.9127 - accuracy: 0.6981 - val_loss: 0.9182 - val_accuracy: 0.6833\n",
      "Epoch 36/100\n",
      "17/17 [==============================] - 2s 112ms/step - loss: 0.8928 - accuracy: 0.7093 - val_loss: 0.9027 - val_accuracy: 0.6750\n",
      "Epoch 37/100\n",
      "17/17 [==============================] - 2s 111ms/step - loss: 0.8751 - accuracy: 0.7176 - val_loss: 0.8898 - val_accuracy: 0.6833\n",
      "Epoch 38/100\n",
      "17/17 [==============================] - 2s 112ms/step - loss: 0.8577 - accuracy: 0.7194 - val_loss: 0.8763 - val_accuracy: 0.6833\n",
      "Epoch 39/100\n",
      "17/17 [==============================] - 2s 106ms/step - loss: 0.8416 - accuracy: 0.7287 - val_loss: 0.8635 - val_accuracy: 0.6917\n",
      "Epoch 40/100\n",
      "17/17 [==============================] - 2s 112ms/step - loss: 0.8271 - accuracy: 0.7343 - val_loss: 0.8508 - val_accuracy: 0.7000\n",
      "Epoch 41/100\n",
      "17/17 [==============================] - 2s 112ms/step - loss: 0.8126 - accuracy: 0.7435 - val_loss: 0.8393 - val_accuracy: 0.7167\n",
      "Epoch 42/100\n",
      "17/17 [==============================] - 2s 106ms/step - loss: 0.7994 - accuracy: 0.7481 - val_loss: 0.8292 - val_accuracy: 0.7167\n",
      "Epoch 43/100\n",
      "17/17 [==============================] - 2s 106ms/step - loss: 0.7866 - accuracy: 0.7500 - val_loss: 0.8185 - val_accuracy: 0.7167\n",
      "Epoch 44/100\n",
      "17/17 [==============================] - 2s 106ms/step - loss: 0.7743 - accuracy: 0.7519 - val_loss: 0.8086 - val_accuracy: 0.7167\n",
      "Epoch 45/100\n",
      "17/17 [==============================] - 2s 106ms/step - loss: 0.7628 - accuracy: 0.7537 - val_loss: 0.8000 - val_accuracy: 0.7250\n",
      "Epoch 46/100\n",
      "17/17 [==============================] - 2s 112ms/step - loss: 0.7517 - accuracy: 0.7556 - val_loss: 0.7901 - val_accuracy: 0.7250\n",
      "Epoch 47/100\n",
      "17/17 [==============================] - 2s 112ms/step - loss: 0.7407 - accuracy: 0.7593 - val_loss: 0.7805 - val_accuracy: 0.7250\n",
      "Epoch 48/100\n",
      "17/17 [==============================] - 2s 111ms/step - loss: 0.7303 - accuracy: 0.7648 - val_loss: 0.7717 - val_accuracy: 0.7333\n",
      "Epoch 49/100\n",
      "17/17 [==============================] - 2s 111ms/step - loss: 0.7201 - accuracy: 0.7657 - val_loss: 0.7624 - val_accuracy: 0.7333\n",
      "Epoch 50/100\n",
      "17/17 [==============================] - 2s 106ms/step - loss: 0.7102 - accuracy: 0.7731 - val_loss: 0.7523 - val_accuracy: 0.7417\n",
      "Epoch 51/100\n",
      "17/17 [==============================] - 2s 106ms/step - loss: 0.7004 - accuracy: 0.7722 - val_loss: 0.7427 - val_accuracy: 0.7583\n",
      "Epoch 52/100\n",
      "17/17 [==============================] - 2s 106ms/step - loss: 0.6914 - accuracy: 0.7759 - val_loss: 0.7343 - val_accuracy: 0.7667\n",
      "Epoch 53/100\n",
      "17/17 [==============================] - 2s 106ms/step - loss: 0.6822 - accuracy: 0.7769 - val_loss: 0.7219 - val_accuracy: 0.7667\n",
      "Epoch 54/100\n",
      "17/17 [==============================] - 2s 108ms/step - loss: 0.6743 - accuracy: 0.7833 - val_loss: 0.7187 - val_accuracy: 0.7750\n",
      "Epoch 55/100\n",
      "17/17 [==============================] - 2s 107ms/step - loss: 0.6665 - accuracy: 0.7843 - val_loss: 0.7104 - val_accuracy: 0.7750\n",
      "Epoch 56/100\n",
      "17/17 [==============================] - 2s 106ms/step - loss: 0.6590 - accuracy: 0.7898 - val_loss: 0.7050 - val_accuracy: 0.7750\n",
      "Epoch 57/100\n",
      "17/17 [==============================] - 2s 106ms/step - loss: 0.6521 - accuracy: 0.7889 - val_loss: 0.6989 - val_accuracy: 0.7750\n",
      "Epoch 58/100\n",
      "17/17 [==============================] - 2s 106ms/step - loss: 0.6449 - accuracy: 0.7935 - val_loss: 0.6938 - val_accuracy: 0.7833\n",
      "Epoch 59/100\n",
      "17/17 [==============================] - 2s 106ms/step - loss: 0.6380 - accuracy: 0.7926 - val_loss: 0.6885 - val_accuracy: 0.7833\n",
      "Epoch 60/100\n",
      "17/17 [==============================] - 2s 106ms/step - loss: 0.6315 - accuracy: 0.7963 - val_loss: 0.6854 - val_accuracy: 0.7833\n",
      "Epoch 61/100\n",
      "17/17 [==============================] - 2s 112ms/step - loss: 0.6253 - accuracy: 0.7935 - val_loss: 0.6802 - val_accuracy: 0.7833\n",
      "Epoch 62/100\n",
      "17/17 [==============================] - 2s 106ms/step - loss: 0.6190 - accuracy: 0.7954 - val_loss: 0.6752 - val_accuracy: 0.7917\n",
      "Epoch 63/100\n",
      "17/17 [==============================] - 2s 107ms/step - loss: 0.6132 - accuracy: 0.7963 - val_loss: 0.6700 - val_accuracy: 0.7833\n",
      "Epoch 64/100\n",
      "17/17 [==============================] - 2s 107ms/step - loss: 0.6074 - accuracy: 0.7991 - val_loss: 0.6644 - val_accuracy: 0.7917\n",
      "Epoch 65/100\n",
      "17/17 [==============================] - 2s 111ms/step - loss: 0.6019 - accuracy: 0.7991 - val_loss: 0.6607 - val_accuracy: 0.8000\n",
      "Epoch 66/100\n",
      "17/17 [==============================] - 2s 111ms/step - loss: 0.5961 - accuracy: 0.7991 - val_loss: 0.6540 - val_accuracy: 0.8083\n",
      "Epoch 67/100\n",
      "17/17 [==============================] - 2s 113ms/step - loss: 0.5911 - accuracy: 0.8000 - val_loss: 0.6513 - val_accuracy: 0.8250\n",
      "Epoch 68/100\n",
      "17/17 [==============================] - 2s 106ms/step - loss: 0.5858 - accuracy: 0.8037 - val_loss: 0.6460 - val_accuracy: 0.8167\n",
      "Epoch 69/100\n",
      "17/17 [==============================] - 2s 106ms/step - loss: 0.5808 - accuracy: 0.8028 - val_loss: 0.6427 - val_accuracy: 0.8250\n",
      "Epoch 70/100\n",
      "17/17 [==============================] - 2s 106ms/step - loss: 0.5756 - accuracy: 0.8037 - val_loss: 0.6377 - val_accuracy: 0.8333\n",
      "Epoch 71/100\n",
      "17/17 [==============================] - 2s 106ms/step - loss: 0.5712 - accuracy: 0.8046 - val_loss: 0.6325 - val_accuracy: 0.8333\n",
      "Epoch 72/100\n",
      "17/17 [==============================] - 2s 107ms/step - loss: 0.5665 - accuracy: 0.8056 - val_loss: 0.6287 - val_accuracy: 0.8333\n",
      "Epoch 73/100\n",
      "17/17 [==============================] - 2s 106ms/step - loss: 0.5615 - accuracy: 0.8083 - val_loss: 0.6248 - val_accuracy: 0.8333\n",
      "Epoch 74/100\n",
      "17/17 [==============================] - 2s 107ms/step - loss: 0.5570 - accuracy: 0.8093 - val_loss: 0.6210 - val_accuracy: 0.8333\n",
      "Epoch 75/100\n",
      "17/17 [==============================] - 2s 106ms/step - loss: 0.5525 - accuracy: 0.8111 - val_loss: 0.6174 - val_accuracy: 0.8333\n",
      "Epoch 76/100\n",
      "17/17 [==============================] - 2s 106ms/step - loss: 0.5481 - accuracy: 0.8139 - val_loss: 0.6136 - val_accuracy: 0.8333\n",
      "Epoch 77/100\n",
      "17/17 [==============================] - 2s 106ms/step - loss: 0.5440 - accuracy: 0.8148 - val_loss: 0.6096 - val_accuracy: 0.8500\n",
      "Epoch 78/100\n",
      "17/17 [==============================] - 2s 106ms/step - loss: 0.5397 - accuracy: 0.8176 - val_loss: 0.6063 - val_accuracy: 0.8500\n",
      "Epoch 79/100\n",
      "17/17 [==============================] - 2s 106ms/step - loss: 0.5356 - accuracy: 0.8167 - val_loss: 0.6020 - val_accuracy: 0.8500\n",
      "Epoch 80/100\n",
      "17/17 [==============================] - 2s 106ms/step - loss: 0.5315 - accuracy: 0.8222 - val_loss: 0.5998 - val_accuracy: 0.8500\n",
      "Epoch 81/100\n",
      "17/17 [==============================] - 2s 106ms/step - loss: 0.5275 - accuracy: 0.8194 - val_loss: 0.5957 - val_accuracy: 0.8500\n",
      "Epoch 82/100\n",
      "17/17 [==============================] - 2s 107ms/step - loss: 0.5237 - accuracy: 0.8231 - val_loss: 0.5940 - val_accuracy: 0.8500\n",
      "Epoch 83/100\n",
      "17/17 [==============================] - 2s 112ms/step - loss: 0.5198 - accuracy: 0.8250 - val_loss: 0.5888 - val_accuracy: 0.8500\n",
      "Epoch 84/100\n",
      "17/17 [==============================] - 2s 111ms/step - loss: 0.5161 - accuracy: 0.8278 - val_loss: 0.5872 - val_accuracy: 0.8500\n",
      "Epoch 85/100\n",
      "17/17 [==============================] - 2s 111ms/step - loss: 0.5124 - accuracy: 0.8287 - val_loss: 0.5841 - val_accuracy: 0.8500\n",
      "Epoch 86/100\n",
      "17/17 [==============================] - 2s 106ms/step - loss: 0.5084 - accuracy: 0.8324 - val_loss: 0.5815 - val_accuracy: 0.8500\n",
      "Epoch 87/100\n",
      "17/17 [==============================] - 2s 106ms/step - loss: 0.5053 - accuracy: 0.8324 - val_loss: 0.5780 - val_accuracy: 0.8417\n",
      "Epoch 88/100\n",
      "17/17 [==============================] - 2s 112ms/step - loss: 0.5015 - accuracy: 0.8343 - val_loss: 0.5758 - val_accuracy: 0.8417\n",
      "Epoch 89/100\n",
      "17/17 [==============================] - 2s 106ms/step - loss: 0.4982 - accuracy: 0.8361 - val_loss: 0.5722 - val_accuracy: 0.8417\n",
      "Epoch 90/100\n",
      "17/17 [==============================] - 2s 106ms/step - loss: 0.4949 - accuracy: 0.8370 - val_loss: 0.5701 - val_accuracy: 0.8417\n",
      "Epoch 91/100\n",
      "17/17 [==============================] - 2s 106ms/step - loss: 0.4914 - accuracy: 0.8370 - val_loss: 0.5667 - val_accuracy: 0.8417\n",
      "Epoch 92/100\n",
      "17/17 [==============================] - 2s 106ms/step - loss: 0.4881 - accuracy: 0.8380 - val_loss: 0.5649 - val_accuracy: 0.8417\n",
      "Epoch 93/100\n",
      "17/17 [==============================] - 2s 111ms/step - loss: 0.4849 - accuracy: 0.8370 - val_loss: 0.5621 - val_accuracy: 0.8417\n",
      "Epoch 94/100\n",
      "17/17 [==============================] - 2s 111ms/step - loss: 0.4816 - accuracy: 0.8389 - val_loss: 0.5598 - val_accuracy: 0.8417\n",
      "Epoch 95/100\n",
      "17/17 [==============================] - 2s 106ms/step - loss: 0.4786 - accuracy: 0.8380 - val_loss: 0.5569 - val_accuracy: 0.8417\n",
      "Epoch 96/100\n",
      "17/17 [==============================] - 2s 112ms/step - loss: 0.4753 - accuracy: 0.8417 - val_loss: 0.5549 - val_accuracy: 0.8417\n",
      "Epoch 97/100\n",
      "17/17 [==============================] - 2s 107ms/step - loss: 0.4723 - accuracy: 0.8426 - val_loss: 0.5519 - val_accuracy: 0.8417\n",
      "Epoch 98/100\n",
      "17/17 [==============================] - 2s 107ms/step - loss: 0.4696 - accuracy: 0.8426 - val_loss: 0.5509 - val_accuracy: 0.8500\n",
      "Epoch 99/100\n",
      "17/17 [==============================] - 2s 106ms/step - loss: 0.4667 - accuracy: 0.8454 - val_loss: 0.5483 - val_accuracy: 0.8417\n",
      "Epoch 100/100\n",
      "17/17 [==============================] - 2s 106ms/step - loss: 0.4634 - accuracy: 0.8481 - val_loss: 0.5447 - val_accuracy: 0.8500\n"
     ]
    }
   ],
   "source": [
    "train_dataset = tf.data.Dataset.from_tensor_slices((X_train, Y_train)).batch(64)\n",
    "test_dataset = tf.data.Dataset.from_tensor_slices((X_test, Y_test)).batch(64)\n",
    "history = conv_model.fit(train_dataset, epochs=100, validation_data=test_dataset)"
   ]
  },
  {
   "cell_type": "markdown",
   "metadata": {},
   "source": [
    "<a name='5'></a>\n",
    "## 5 - History Object \n",
    "\n",
    "The history object is an output of the `.fit()` operation, and provides a record of all the loss and metric values in memory. It's stored as a dictionary that you can retrieve at `history.history`: "
   ]
  },
  {
   "cell_type": "code",
   "execution_count": 22,
   "metadata": {},
   "outputs": [
    {
     "data": {
      "text/plain": [
       "{'loss': [1.8010450601577759,\n",
       "  1.7789520025253296,\n",
       "  1.7736860513687134,\n",
       "  1.768349289894104,\n",
       "  1.762551188468933,\n",
       "  1.7556021213531494,\n",
       "  1.7462403774261475,\n",
       "  1.735573649406433,\n",
       "  1.7229503393173218,\n",
       "  1.7074713706970215,\n",
       "  1.6888821125030518,\n",
       "  1.666429877281189,\n",
       "  1.641151785850525,\n",
       "  1.6115487813949585,\n",
       "  1.5818513631820679,\n",
       "  1.5461746454238892,\n",
       "  1.5088872909545898,\n",
       "  1.4688897132873535,\n",
       "  1.4251230955123901,\n",
       "  1.3832014799118042,\n",
       "  1.3380600214004517,\n",
       "  1.296760082244873,\n",
       "  1.2541123628616333,\n",
       "  1.2157851457595825,\n",
       "  1.179084062576294,\n",
       "  1.141858696937561,\n",
       "  1.1099096536636353,\n",
       "  1.0791550874710083,\n",
       "  1.0485376119613647,\n",
       "  1.0248734951019287,\n",
       "  0.9991884827613831,\n",
       "  0.9754853248596191,\n",
       "  0.953974723815918,\n",
       "  0.9320513606071472,\n",
       "  0.9127252697944641,\n",
       "  0.892784833908081,\n",
       "  0.875104546546936,\n",
       "  0.8577334880828857,\n",
       "  0.8416378498077393,\n",
       "  0.8270736932754517,\n",
       "  0.812594473361969,\n",
       "  0.7993714809417725,\n",
       "  0.7865970134735107,\n",
       "  0.7742654085159302,\n",
       "  0.7628452181816101,\n",
       "  0.7517138123512268,\n",
       "  0.7407001256942749,\n",
       "  0.7303049564361572,\n",
       "  0.7200823426246643,\n",
       "  0.7102326154708862,\n",
       "  0.7004287242889404,\n",
       "  0.6913620233535767,\n",
       "  0.682211697101593,\n",
       "  0.6743354797363281,\n",
       "  0.6664670705795288,\n",
       "  0.6590044498443604,\n",
       "  0.6520828604698181,\n",
       "  0.6449038982391357,\n",
       "  0.6380078196525574,\n",
       "  0.6315485835075378,\n",
       "  0.625313401222229,\n",
       "  0.6189576983451843,\n",
       "  0.6131894588470459,\n",
       "  0.6074323058128357,\n",
       "  0.6019262075424194,\n",
       "  0.5961039066314697,\n",
       "  0.5911357998847961,\n",
       "  0.5858228802680969,\n",
       "  0.580836832523346,\n",
       "  0.5755773186683655,\n",
       "  0.5712085962295532,\n",
       "  0.5664545893669128,\n",
       "  0.5614588260650635,\n",
       "  0.5570489168167114,\n",
       "  0.5525175333023071,\n",
       "  0.5480807423591614,\n",
       "  0.5439736247062683,\n",
       "  0.5396562218666077,\n",
       "  0.5356212258338928,\n",
       "  0.5315212607383728,\n",
       "  0.5274773836135864,\n",
       "  0.5237286686897278,\n",
       "  0.519842267036438,\n",
       "  0.5161372423171997,\n",
       "  0.5123831033706665,\n",
       "  0.5083953738212585,\n",
       "  0.5052627325057983,\n",
       "  0.5014858841896057,\n",
       "  0.4982033669948578,\n",
       "  0.49489349126815796,\n",
       "  0.49137961864471436,\n",
       "  0.48811131715774536,\n",
       "  0.4849141538143158,\n",
       "  0.48161259293556213,\n",
       "  0.47855275869369507,\n",
       "  0.47534048557281494,\n",
       "  0.4723181128501892,\n",
       "  0.46958380937576294,\n",
       "  0.46665245294570923,\n",
       "  0.4633959233760834],\n",
       " 'accuracy': [0.17777778208255768,\n",
       "  0.2351851910352707,\n",
       "  0.3092592656612396,\n",
       "  0.32777777314186096,\n",
       "  0.34351852536201477,\n",
       "  0.3861111104488373,\n",
       "  0.4037036895751953,\n",
       "  0.4138889014720917,\n",
       "  0.39814814925193787,\n",
       "  0.4333333373069763,\n",
       "  0.4435185194015503,\n",
       "  0.44999998807907104,\n",
       "  0.4592592716217041,\n",
       "  0.47870370745658875,\n",
       "  0.4879629611968994,\n",
       "  0.5018518567085266,\n",
       "  0.5148147940635681,\n",
       "  0.520370364189148,\n",
       "  0.5361111164093018,\n",
       "  0.5416666865348816,\n",
       "  0.5657407641410828,\n",
       "  0.5777778029441833,\n",
       "  0.5907407402992249,\n",
       "  0.604629635810852,\n",
       "  0.6120370626449585,\n",
       "  0.6268518567085266,\n",
       "  0.6287037134170532,\n",
       "  0.6388888955116272,\n",
       "  0.6472222208976746,\n",
       "  0.6564815044403076,\n",
       "  0.6666666865348816,\n",
       "  0.6694444417953491,\n",
       "  0.6796296238899231,\n",
       "  0.6870370507240295,\n",
       "  0.6981481313705444,\n",
       "  0.7092592716217041,\n",
       "  0.7175925970077515,\n",
       "  0.7194444537162781,\n",
       "  0.7287036776542664,\n",
       "  0.7342592477798462,\n",
       "  0.7435185313224792,\n",
       "  0.7481481432914734,\n",
       "  0.75,\n",
       "  0.7518518567085266,\n",
       "  0.7537037134170532,\n",
       "  0.7555555701255798,\n",
       "  0.7592592835426331,\n",
       "  0.7648147940635681,\n",
       "  0.7657407522201538,\n",
       "  0.7731481194496155,\n",
       "  0.7722222208976746,\n",
       "  0.7759259343147278,\n",
       "  0.7768518328666687,\n",
       "  0.7833333611488342,\n",
       "  0.7842592597007751,\n",
       "  0.789814829826355,\n",
       "  0.7888888716697693,\n",
       "  0.7935185432434082,\n",
       "  0.7925925850868225,\n",
       "  0.7962962985038757,\n",
       "  0.7935185432434082,\n",
       "  0.7953703999519348,\n",
       "  0.7962962985038757,\n",
       "  0.7990740537643433,\n",
       "  0.7990740537643433,\n",
       "  0.7990740537643433,\n",
       "  0.800000011920929,\n",
       "  0.8037037253379822,\n",
       "  0.8027777671813965,\n",
       "  0.8037037253379822,\n",
       "  0.8046296238899231,\n",
       "  0.8055555820465088,\n",
       "  0.8083333373069763,\n",
       "  0.8092592358589172,\n",
       "  0.8111110925674438,\n",
       "  0.8138889074325562,\n",
       "  0.8148148059844971,\n",
       "  0.8175926208496094,\n",
       "  0.8166666626930237,\n",
       "  0.8222222328186035,\n",
       "  0.8194444179534912,\n",
       "  0.8231481313705444,\n",
       "  0.824999988079071,\n",
       "  0.8277778029441833,\n",
       "  0.8287037014961243,\n",
       "  0.8324074149131775,\n",
       "  0.8324074149131775,\n",
       "  0.8342592716217041,\n",
       "  0.8361111283302307,\n",
       "  0.8370370268821716,\n",
       "  0.8370370268821716,\n",
       "  0.8379629850387573,\n",
       "  0.8370370268821716,\n",
       "  0.8388888835906982,\n",
       "  0.8379629850387573,\n",
       "  0.8416666388511658,\n",
       "  0.8425925970077515,\n",
       "  0.8425925970077515,\n",
       "  0.845370352268219,\n",
       "  0.8481481671333313],\n",
       " 'val_loss': [1.7834510803222656,\n",
       "  1.7748340368270874,\n",
       "  1.7703135013580322,\n",
       "  1.765227198600769,\n",
       "  1.7593142986297607,\n",
       "  1.7521110773086548,\n",
       "  1.7425029277801514,\n",
       "  1.7310937643051147,\n",
       "  1.716796636581421,\n",
       "  1.7012132406234741,\n",
       "  1.6818852424621582,\n",
       "  1.6600868701934814,\n",
       "  1.6360028982162476,\n",
       "  1.6069952249526978,\n",
       "  1.5744726657867432,\n",
       "  1.5381277799606323,\n",
       "  1.4980472326278687,\n",
       "  1.4556076526641846,\n",
       "  1.4071937799453735,\n",
       "  1.3679053783416748,\n",
       "  1.3187026977539062,\n",
       "  1.2794896364212036,\n",
       "  1.2351747751235962,\n",
       "  1.195392370223999,\n",
       "  1.1620866060256958,\n",
       "  1.1240020990371704,\n",
       "  1.09377920627594,\n",
       "  1.0683799982070923,\n",
       "  1.034313440322876,\n",
       "  1.0143088102340698,\n",
       "  0.9922751188278198,\n",
       "  0.9684054851531982,\n",
       "  0.950800359249115,\n",
       "  0.9340854287147522,\n",
       "  0.918200671672821,\n",
       "  0.9027470946311951,\n",
       "  0.8898060321807861,\n",
       "  0.8762834072113037,\n",
       "  0.8635432124137878,\n",
       "  0.8507950901985168,\n",
       "  0.8393198847770691,\n",
       "  0.8292468786239624,\n",
       "  0.8184568881988525,\n",
       "  0.8086370825767517,\n",
       "  0.8000193238258362,\n",
       "  0.7901496887207031,\n",
       "  0.7804872393608093,\n",
       "  0.771695077419281,\n",
       "  0.7624257802963257,\n",
       "  0.7523187398910522,\n",
       "  0.7426939010620117,\n",
       "  0.7342828512191772,\n",
       "  0.7218726873397827,\n",
       "  0.7187219858169556,\n",
       "  0.7104067206382751,\n",
       "  0.7050038576126099,\n",
       "  0.698922336101532,\n",
       "  0.6937810182571411,\n",
       "  0.6885499358177185,\n",
       "  0.6853950619697571,\n",
       "  0.6802215576171875,\n",
       "  0.6751962304115295,\n",
       "  0.6700486540794373,\n",
       "  0.6643669009208679,\n",
       "  0.6606703400611877,\n",
       "  0.6539676785469055,\n",
       "  0.6513417363166809,\n",
       "  0.6460273861885071,\n",
       "  0.6427343487739563,\n",
       "  0.637740433216095,\n",
       "  0.63254714012146,\n",
       "  0.6286686062812805,\n",
       "  0.6247970461845398,\n",
       "  0.6209939122200012,\n",
       "  0.6174076199531555,\n",
       "  0.613599419593811,\n",
       "  0.6096240282058716,\n",
       "  0.6062501072883606,\n",
       "  0.6019535064697266,\n",
       "  0.5997722148895264,\n",
       "  0.5956701040267944,\n",
       "  0.594036340713501,\n",
       "  0.5888404846191406,\n",
       "  0.5871644616127014,\n",
       "  0.5840749144554138,\n",
       "  0.5815021395683289,\n",
       "  0.5779812932014465,\n",
       "  0.5757952928543091,\n",
       "  0.5721543431282043,\n",
       "  0.5701221227645874,\n",
       "  0.5667016506195068,\n",
       "  0.564877450466156,\n",
       "  0.5621033906936646,\n",
       "  0.5597864985466003,\n",
       "  0.5568982362747192,\n",
       "  0.5549096465110779,\n",
       "  0.5518511533737183,\n",
       "  0.5508672595024109,\n",
       "  0.5482728481292725,\n",
       "  0.5446555018424988],\n",
       " 'val_accuracy': [0.17499999701976776,\n",
       "  0.38333332538604736,\n",
       "  0.40833333134651184,\n",
       "  0.40833333134651184,\n",
       "  0.34166666865348816,\n",
       "  0.40833333134651184,\n",
       "  0.44999998807907104,\n",
       "  0.4583333432674408,\n",
       "  0.44999998807907104,\n",
       "  0.4416666626930237,\n",
       "  0.44999998807907104,\n",
       "  0.4416666626930237,\n",
       "  0.4333333373069763,\n",
       "  0.44999998807907104,\n",
       "  0.4583333432674408,\n",
       "  0.4749999940395355,\n",
       "  0.4833333194255829,\n",
       "  0.5166666507720947,\n",
       "  0.5416666865348816,\n",
       "  0.550000011920929,\n",
       "  0.6083333492279053,\n",
       "  0.6000000238418579,\n",
       "  0.6083333492279053,\n",
       "  0.5916666388511658,\n",
       "  0.6416666507720947,\n",
       "  0.6416666507720947,\n",
       "  0.6333333253860474,\n",
       "  0.6416666507720947,\n",
       "  0.675000011920929,\n",
       "  0.6666666865348816,\n",
       "  0.675000011920929,\n",
       "  0.675000011920929,\n",
       "  0.6833333373069763,\n",
       "  0.675000011920929,\n",
       "  0.6833333373069763,\n",
       "  0.675000011920929,\n",
       "  0.6833333373069763,\n",
       "  0.6833333373069763,\n",
       "  0.6916666626930237,\n",
       "  0.699999988079071,\n",
       "  0.7166666388511658,\n",
       "  0.7166666388511658,\n",
       "  0.7166666388511658,\n",
       "  0.7166666388511658,\n",
       "  0.7250000238418579,\n",
       "  0.7250000238418579,\n",
       "  0.7250000238418579,\n",
       "  0.7333333492279053,\n",
       "  0.7333333492279053,\n",
       "  0.7416666746139526,\n",
       "  0.7583333253860474,\n",
       "  0.7666666507720947,\n",
       "  0.7666666507720947,\n",
       "  0.7749999761581421,\n",
       "  0.7749999761581421,\n",
       "  0.7749999761581421,\n",
       "  0.7749999761581421,\n",
       "  0.7833333611488342,\n",
       "  0.7833333611488342,\n",
       "  0.7833333611488342,\n",
       "  0.7833333611488342,\n",
       "  0.7916666865348816,\n",
       "  0.7833333611488342,\n",
       "  0.7916666865348816,\n",
       "  0.800000011920929,\n",
       "  0.8083333373069763,\n",
       "  0.824999988079071,\n",
       "  0.8166666626930237,\n",
       "  0.824999988079071,\n",
       "  0.8333333134651184,\n",
       "  0.8333333134651184,\n",
       "  0.8333333134651184,\n",
       "  0.8333333134651184,\n",
       "  0.8333333134651184,\n",
       "  0.8333333134651184,\n",
       "  0.8333333134651184,\n",
       "  0.8500000238418579,\n",
       "  0.8500000238418579,\n",
       "  0.8500000238418579,\n",
       "  0.8500000238418579,\n",
       "  0.8500000238418579,\n",
       "  0.8500000238418579,\n",
       "  0.8500000238418579,\n",
       "  0.8500000238418579,\n",
       "  0.8500000238418579,\n",
       "  0.8500000238418579,\n",
       "  0.8416666388511658,\n",
       "  0.8416666388511658,\n",
       "  0.8416666388511658,\n",
       "  0.8416666388511658,\n",
       "  0.8416666388511658,\n",
       "  0.8416666388511658,\n",
       "  0.8416666388511658,\n",
       "  0.8416666388511658,\n",
       "  0.8416666388511658,\n",
       "  0.8416666388511658,\n",
       "  0.8416666388511658,\n",
       "  0.8500000238418579,\n",
       "  0.8416666388511658,\n",
       "  0.8500000238418579]}"
      ]
     },
     "execution_count": 22,
     "metadata": {},
     "output_type": "execute_result"
    }
   ],
   "source": [
    "history.history"
   ]
  },
  {
   "cell_type": "markdown",
   "metadata": {},
   "source": [
    "Now visualize the loss over time using `history.history`: "
   ]
  },
  {
   "cell_type": "code",
   "execution_count": 23,
   "metadata": {},
   "outputs": [
    {
     "data": {
      "text/plain": [
       "[Text(0, 0.5, 'Accuracy'), Text(0.5, 0, 'Epoch')]"
      ]
     },
     "execution_count": 23,
     "metadata": {},
     "output_type": "execute_result"
    },
    {
     "data": {
      "image/png": "[encoded data removed]",
      "text/plain": [
       "<Figure size 864x576 with 1 Axes>"
      ]
     },
     "metadata": {
      "needs_background": "light"
     },
     "output_type": "display_data"
    },
    {
     "data": {
      "image/png": "[encoded data removed]",
      "text/plain": [
       "<Figure size 864x576 with 1 Axes>"
      ]
     },
     "metadata": {
      "needs_background": "light"
     },
     "output_type": "display_data"
    }
   ],
   "source": [
    "# The history.history[\"loss\"] entry is a dictionary with as many values as epochs that the\n",
    "# model was trained on. \n",
    "df_loss_acc = pd.DataFrame(history.history)\n",
    "df_loss= df_loss_acc[['loss','val_loss']]\n",
    "df_loss.rename(columns={'loss':'train','val_loss':'validation'},inplace=True)\n",
    "df_acc= df_loss_acc[['accuracy','val_accuracy']]\n",
    "df_acc.rename(columns={'accuracy':'train','val_accuracy':'validation'},inplace=True)\n",
    "df_loss.plot(title='Model loss',figsize=(12,8)).set(xlabel='Epoch',ylabel='Loss')\n",
    "df_acc.plot(title='Model Accuracy',figsize=(12,8)).set(xlabel='Epoch',ylabel='Accuracy')"
   ]
  },
  {
   "cell_type": "markdown",
   "metadata": {},
   "source": [
    "**Congratulations**! You've finished the assignment and built two models: One that recognizes  smiles, and another that recognizes SIGN language with almost 80% accuracy on the test set. In addition to that, you now also understand the applications of two Keras APIs: Sequential and Functional. Nicely done! \n",
    "\n",
    "By now, you know a bit about how the Functional API works and may have glimpsed the possibilities. In your next assignment, you'll really get a feel for its power when you get the opportunity to build a very deep ConvNet, using ResNets! "
   ]
  },
  {
   "cell_type": "markdown",
   "metadata": {},
   "source": [
    "<a name='6'></a>\n",
    "## 6 - Bibliography\n",
    "\n",
    "You're always encouraged to read the official documentation. To that end, you can find the docs for the Sequential and Functional APIs here: \n",
    "\n",
    "https://www.tensorflow.org/guide/keras/sequential_model\n",
    "\n",
    "https://www.tensorflow.org/guide/keras/functional"
   ]
  }
 ],
 "metadata": {
  "coursera": {
   "course_slug": "convolutional-neural-networks",
   "graded_item_id": "bwbJV",
   "launcher_item_id": "0TkXB"
  },
  "kernelspec": {
   "display_name": "Python 3",
   "language": "python",
   "name": "python3"
  },
  "language_info": {
   "codemirror_mode": {
    "name": "ipython",
    "version": 3
   },
   "file_extension": ".py",
   "mimetype": "text/x-python",
   "name": "python",
   "nbconvert_exporter": "python",
   "pygments_lexer": "ipython3",
   "version": "3.7.6"
  }
 },
 "nbformat": 4,
 "nbformat_minor": 2
}
